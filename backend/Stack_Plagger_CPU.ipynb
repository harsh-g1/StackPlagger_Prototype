{
 "cells": [
  {
   "cell_type": "markdown",
   "id": "b438a940",
   "metadata": {},
   "source": [
    "CPU VERSION --"
   ]
  },
  {
   "cell_type": "code",
   "execution_count": null,
   "id": "98ee91db",
   "metadata": {},
   "outputs": [
    {
     "name": "stderr",
     "output_type": "stream",
     "text": [
      "/home/aman/Home/venv/lib/python3.12/site-packages/tqdm/auto.py:21: TqdmWarning: IProgress not found. Please update jupyter and ipywidgets. See https://ipywidgets.readthedocs.io/en/stable/user_install.html\n",
      "  from .autonotebook import tqdm as notebook_tqdm\n",
      "Epoch 1: 100%|██████████| 749/749 [52:10<00:00,  4.18s/it]\n"
     ]
    },
    {
     "name": "stdout",
     "output_type": "stream",
     "text": [
      "Epoch 1 loss: 278.5767\n"
     ]
    },
    {
     "name": "stderr",
     "output_type": "stream",
     "text": [
      "Epoch 2: 100%|██████████| 749/749 [52:11<00:00,  4.18s/it]\n"
     ]
    },
    {
     "name": "stdout",
     "output_type": "stream",
     "text": [
      "Epoch 2 loss: 181.4119\n"
     ]
    },
    {
     "name": "stderr",
     "output_type": "stream",
     "text": [
      "Epoch 3: 100%|██████████| 749/749 [52:18<00:00,  4.19s/it]\n"
     ]
    },
    {
     "name": "stdout",
     "output_type": "stream",
     "text": [
      "Epoch 3 loss: 131.7644\n"
     ]
    },
    {
     "name": "stderr",
     "output_type": "stream",
     "text": [
      "Extracting Features: 100%|██████████| 749/749 [13:24<00:00,  1.07s/it]\n",
      "Extracting Features: 100%|██████████| 122/122 [02:11<00:00,  1.08s/it]\n"
     ]
    },
    {
     "name": "stdout",
     "output_type": "stream",
     "text": [
      "\n",
      "=== Results for Test_0.csv ===\n",
      "Accuracy: 0.8135245901639344\n",
      "Precision: 0.836864406779661\n",
      "Recall: 0.79\n",
      "F1 Score: 0.8127572016460906\n",
      "Classification Report:\n",
      "              precision    recall  f1-score   support\n",
      "\n",
      "           0       0.79      0.84      0.81       476\n",
      "           1       0.84      0.79      0.81       500\n",
      "\n",
      "    accuracy                           0.81       976\n",
      "   macro avg       0.81      0.81      0.81       976\n",
      "weighted avg       0.81      0.81      0.81       976\n",
      "\n"
     ]
    },
    {
     "name": "stderr",
     "output_type": "stream",
     "text": [
      "Extracting Features: 100%|██████████| 125/125 [02:14<00:00,  1.07s/it]\n"
     ]
    },
    {
     "name": "stdout",
     "output_type": "stream",
     "text": [
      "\n",
      "=== Results for Test_1.csv ===\n",
      "Accuracy: 0.77\n",
      "Precision: 0.7596153846153846\n",
      "Recall: 0.79\n",
      "F1 Score: 0.7745098039215687\n",
      "Classification Report:\n",
      "              precision    recall  f1-score   support\n",
      "\n",
      "           0       0.78      0.75      0.77       500\n",
      "           1       0.76      0.79      0.77       500\n",
      "\n",
      "    accuracy                           0.77      1000\n",
      "   macro avg       0.77      0.77      0.77      1000\n",
      "weighted avg       0.77      0.77      0.77      1000\n",
      "\n"
     ]
    },
    {
     "name": "stderr",
     "output_type": "stream",
     "text": [
      "Extracting Features: 100%|██████████| 126/126 [02:14<00:00,  1.07s/it]\n"
     ]
    },
    {
     "name": "stdout",
     "output_type": "stream",
     "text": [
      "\n",
      "=== Results for Test_2.csv ===\n",
      "Accuracy: 0.7392607392607392\n",
      "Precision: 0.7168784029038112\n",
      "Recall: 0.79\n",
      "F1 Score: 0.7516650808753568\n",
      "Classification Report:\n",
      "              precision    recall  f1-score   support\n",
      "\n",
      "           0       0.77      0.69      0.73       501\n",
      "           1       0.72      0.79      0.75       500\n",
      "\n",
      "    accuracy                           0.74      1001\n",
      "   macro avg       0.74      0.74      0.74      1001\n",
      "weighted avg       0.74      0.74      0.74      1001\n",
      "\n"
     ]
    },
    {
     "name": "stderr",
     "output_type": "stream",
     "text": [
      "Extracting Features: 100%|██████████| 125/125 [02:14<00:00,  1.07s/it]\n"
     ]
    },
    {
     "name": "stdout",
     "output_type": "stream",
     "text": [
      "\n",
      "=== Results for Test_3.csv ===\n",
      "Accuracy: 0.7377377377377378\n",
      "Precision: 0.7155797101449275\n",
      "Recall: 0.79\n",
      "F1 Score: 0.7509505703422054\n",
      "Classification Report:\n",
      "              precision    recall  f1-score   support\n",
      "\n",
      "           0       0.77      0.69      0.72       499\n",
      "           1       0.72      0.79      0.75       500\n",
      "\n",
      "    accuracy                           0.74       999\n",
      "   macro avg       0.74      0.74      0.74       999\n",
      "weighted avg       0.74      0.74      0.74       999\n",
      "\n"
     ]
    },
    {
     "name": "stderr",
     "output_type": "stream",
     "text": [
      "Extracting Features: 100%|██████████| 125/125 [02:14<00:00,  1.07s/it]\n"
     ]
    },
    {
     "name": "stdout",
     "output_type": "stream",
     "text": [
      "\n",
      "=== Results for Test_4.csv ===\n",
      "Accuracy: 0.734\n",
      "Precision: 0.710431654676259\n",
      "Recall: 0.79\n",
      "F1 Score: 0.7481060606060606\n",
      "Classification Report:\n",
      "              precision    recall  f1-score   support\n",
      "\n",
      "           0       0.76      0.68      0.72       500\n",
      "           1       0.71      0.79      0.75       500\n",
      "\n",
      "    accuracy                           0.73      1000\n",
      "   macro avg       0.74      0.73      0.73      1000\n",
      "weighted avg       0.74      0.73      0.73      1000\n",
      "\n"
     ]
    },
    {
     "name": "stderr",
     "output_type": "stream",
     "text": [
      "Extracting Features: 100%|██████████| 125/125 [02:15<00:00,  1.08s/it]\n"
     ]
    },
    {
     "name": "stdout",
     "output_type": "stream",
     "text": [
      "\n",
      "=== Results for Test_5.csv ===\n",
      "Accuracy: 0.841\n",
      "Precision: 0.8797327394209354\n",
      "Recall: 0.79\n",
      "F1 Score: 0.8324552160168599\n",
      "Classification Report:\n",
      "              precision    recall  f1-score   support\n",
      "\n",
      "           0       0.81      0.89      0.85       500\n",
      "           1       0.88      0.79      0.83       500\n",
      "\n",
      "    accuracy                           0.84      1000\n",
      "   macro avg       0.84      0.84      0.84      1000\n",
      "weighted avg       0.84      0.84      0.84      1000\n",
      "\n"
     ]
    },
    {
     "name": "stderr",
     "output_type": "stream",
     "text": [
      "Extracting Features: 100%|██████████| 120/120 [02:08<00:00,  1.07s/it]\n"
     ]
    },
    {
     "name": "stdout",
     "output_type": "stream",
     "text": [
      "\n",
      "=== Results for Test_6.csv ===\n",
      "Accuracy: 0.6073298429319371\n",
      "Precision: 0.5939849624060151\n",
      "Recall: 0.79\n",
      "F1 Score: 0.6781115879828327\n",
      "Classification Report:\n",
      "              precision    recall  f1-score   support\n",
      "\n",
      "           0       0.64      0.41      0.50       455\n",
      "           1       0.59      0.79      0.68       500\n",
      "\n",
      "    accuracy                           0.61       955\n",
      "   macro avg       0.62      0.60      0.59       955\n",
      "weighted avg       0.61      0.61      0.59       955\n",
      "\n"
     ]
    },
    {
     "name": "stderr",
     "output_type": "stream",
     "text": [
      "Extracting Features: 100%|██████████| 122/122 [02:09<00:00,  1.06s/it]\n"
     ]
    },
    {
     "name": "stdout",
     "output_type": "stream",
     "text": [
      "\n",
      "=== Results for Test_7.csv ===\n",
      "Accuracy: 0.6618556701030928\n",
      "Precision: 0.63915857605178\n",
      "Recall: 0.79\n",
      "F1 Score: 0.7066189624329159\n",
      "Classification Report:\n",
      "              precision    recall  f1-score   support\n",
      "\n",
      "           0       0.70      0.53      0.60       470\n",
      "           1       0.64      0.79      0.71       500\n",
      "\n",
      "    accuracy                           0.66       970\n",
      "   macro avg       0.67      0.66      0.65       970\n",
      "weighted avg       0.67      0.66      0.66       970\n",
      "\n"
     ]
    },
    {
     "name": "stderr",
     "output_type": "stream",
     "text": [
      "Extracting Features: 100%|██████████| 125/125 [02:13<00:00,  1.07s/it]\n"
     ]
    },
    {
     "name": "stdout",
     "output_type": "stream",
     "text": [
      "\n",
      "=== Results for Test_8.csv ===\n",
      "Accuracy: 0.7226130653266332\n",
      "Precision: 0.6978798586572438\n",
      "Recall: 0.79\n",
      "F1 Score: 0.7410881801125704\n",
      "Classification Report:\n",
      "              precision    recall  f1-score   support\n",
      "\n",
      "           0       0.76      0.65      0.70       495\n",
      "           1       0.70      0.79      0.74       500\n",
      "\n",
      "    accuracy                           0.72       995\n",
      "   macro avg       0.73      0.72      0.72       995\n",
      "weighted avg       0.73      0.72      0.72       995\n",
      "\n"
     ]
    },
    {
     "name": "stderr",
     "output_type": "stream",
     "text": [
      "Extracting Features: 100%|██████████| 125/125 [02:14<00:00,  1.07s/it]"
     ]
    },
    {
     "name": "stdout",
     "output_type": "stream",
     "text": [
      "\n",
      "=== Results for Test_9.csv ===\n",
      "Accuracy: 0.6683366733466933\n",
      "Precision: 0.6360708534621579\n",
      "Recall: 0.79\n",
      "F1 Score: 0.7047279214986619\n",
      "Classification Report:\n",
      "              precision    recall  f1-score   support\n",
      "\n",
      "           0       0.72      0.55      0.62       498\n",
      "           1       0.64      0.79      0.70       500\n",
      "\n",
      "    accuracy                           0.67       998\n",
      "   macro avg       0.68      0.67      0.66       998\n",
      "weighted avg       0.68      0.67      0.66       998\n",
      "\n"
     ]
    },
    {
     "name": "stderr",
     "output_type": "stream",
     "text": [
      "\n"
     ]
    }
   ],
   "source": [
    "import os\n",
    "import torch\n",
    "import pandas as pd\n",
    "import numpy as np\n",
    "from torch.utils.data import Dataset, DataLoader\n",
    "from transformers import AutoTokenizer, AutoModel, get_scheduler\n",
    "from torch import nn\n",
    "from sklearn.ensemble import RandomForestClassifier\n",
    "from sklearn.metrics import accuracy_score, precision_score, recall_score, f1_score, classification_report\n",
    "from tqdm import tqdm\n",
    "import re\n",
    "import keyword\n",
    "import pickle\n",
    "\n",
    "# Force CPU usage\n",
    "device = torch.device(\"cpu\")\n",
    "\n",
    "# Model and Tokenizer\n",
    "model_name = \"microsoft/codebert-base\"\n",
    "tokenizer = AutoTokenizer.from_pretrained(model_name)\n",
    "base_model = AutoModel.from_pretrained(model_name)\n",
    "base_model.to(device)  # Optional since already on CPU\n",
    "\n",
    "# Stylometric Features\n",
    "JAVA_PYTHON_KEYWORDS = set([\n",
    "    \"def\", \"return\", \"if\", \"else\", \"elif\", \"while\", \"for\", \"break\", \"continue\", \"try\", \"except\",\n",
    "    \"import\", \"from\", \"as\", \"class\", \"pass\", \"with\", \"yield\", \"lambda\", \"global\", \"nonlocal\", \"assert\",\n",
    "    \"public\", \"private\", \"protected\", \"static\", \"final\", \"void\", \"int\", \"double\", \"float\", \"char\", \"boolean\",\n",
    "    \"new\", \"catch\", \"finally\", \"throws\", \"throw\", \"switch\", \"case\", \"package\", \"interface\", \"implements\", \"extends\"\n",
    "])\n",
    "\n",
    "def extract_stylometric_features(code: str) -> np.ndarray:\n",
    "    if not isinstance(code, str) or not code.strip():\n",
    "        return np.zeros(17, dtype=np.float32)\n",
    "\n",
    "    lines = code.split('\\n')\n",
    "    num_lines = len(lines)\n",
    "    line_lengths = [len(line) for line in lines]\n",
    "    avg_line_length = np.mean(line_lengths) if lines else 0\n",
    "    blank_lines = sum(1 for line in lines if not line.strip())\n",
    "\n",
    "    tokens = re.findall(r'\\b\\w+\\b', code)\n",
    "    num_tokens = len(tokens)\n",
    "    avg_token_length = np.mean([len(tok) for tok in tokens]) if tokens else 0\n",
    "    num_keywords = sum(1 for tok in tokens if tok in JAVA_PYTHON_KEYWORDS)\n",
    "    keyword_ratio = num_keywords / num_tokens if num_tokens else 0\n",
    "\n",
    "    comment_lines = sum(1 for line in lines if re.match(r'^\\s*(#|//|/\\*|\\*)', line.strip()))\n",
    "    comment_ratio = comment_lines / num_lines if num_lines else 0\n",
    "\n",
    "    num_assignments = len(re.findall(r'\\w+\\s*=+', code))\n",
    "    num_function_defs = len(re.findall(r'\\b(def|void|public\\s+|private\\s+|protected\\s+).*?\\(', code))\n",
    "\n",
    "    whitespace_ratio = len(re.findall(r'\\s', code)) / len(code) if code else 0\n",
    "    uses_tabs = int('\\t' in code)\n",
    "\n",
    "    indent_levels = [len(re.match(r'^\\s*', line).group()) for line in lines if line.strip()]\n",
    "    indent_variance = np.var(indent_levels) if indent_levels else 0\n",
    "    max_indent_level = max(indent_levels) if indent_levels else 0\n",
    "\n",
    "    num_brackets = code.count('{') + code.count('}') + code.count('(') + code.count(')') + code.count('[') + code.count(']')\n",
    "\n",
    "    return np.array([\n",
    "        num_lines,\n",
    "        avg_line_length,\n",
    "        blank_lines,\n",
    "        num_tokens,\n",
    "        avg_token_length,\n",
    "        num_keywords,\n",
    "        keyword_ratio,\n",
    "        comment_lines,\n",
    "        comment_ratio,\n",
    "        num_assignments,\n",
    "        num_function_defs,\n",
    "        whitespace_ratio,\n",
    "        uses_tabs,\n",
    "        indent_variance,\n",
    "        max_indent_level,\n",
    "        num_brackets,\n",
    "        len(code)\n",
    "    ], dtype=np.float32)\n",
    "\n",
    "# Classifier using CodeBERT\n",
    "class CodeBERTClassifier(nn.Module):\n",
    "    def __init__(self, base_model, hidden_size=768, num_labels=2):\n",
    "        super(CodeBERTClassifier, self).__init__()\n",
    "        self.encoder = base_model\n",
    "        self.classifier = nn.Linear(hidden_size, num_labels)\n",
    "\n",
    "    def forward(self, input_ids, attention_mask, labels=None):\n",
    "        outputs = self.encoder(input_ids=input_ids, attention_mask=attention_mask)\n",
    "        pooled_output = outputs.last_hidden_state[:, 0, :]\n",
    "        logits = self.classifier(pooled_output)\n",
    "        loss = None\n",
    "        if labels is not None:\n",
    "            loss_fn = nn.CrossEntropyLoss()\n",
    "            loss = loss_fn(logits, labels)\n",
    "        return {\"logits\": logits, \"loss\": loss}\n",
    "\n",
    "model = CodeBERTClassifier(base_model)\n",
    "model.to(device)\n",
    "\n",
    "# Dataset for Fine-tuning\n",
    "class CodeDataset(Dataset):\n",
    "    def __init__(self, dataframe, tokenizer, max_length=512):\n",
    "        self.data = dataframe.dropna(subset=[\"clean_code\", \"label\"])\n",
    "        self.data = self.data[self.data[\"clean_code\"].str.strip().astype(bool)]\n",
    "        self.tokenizer = tokenizer\n",
    "        self.max_length = max_length\n",
    "        self.samples = []\n",
    "        for _, row in self.data.iterrows():\n",
    "            tokens = self.tokenizer(row[\"clean_code\"], padding=\"max_length\", truncation=True, max_length=self.max_length)\n",
    "            if len(tokens[\"input_ids\"]) > 0 and sum(tokens[\"attention_mask\"]) > 0:\n",
    "                self.samples.append((tokens, row[\"label\"]))\n",
    "\n",
    "    def __len__(self):\n",
    "        return len(self.samples)\n",
    "\n",
    "    def __getitem__(self, idx):\n",
    "        tokens, label = self.samples[idx]\n",
    "        input_ids = torch.tensor(tokens[\"input_ids\"])\n",
    "        attention_mask = torch.tensor(tokens[\"attention_mask\"])\n",
    "        return {\n",
    "            \"input_ids\": input_ids,\n",
    "            \"attention_mask\": attention_mask,\n",
    "            \"labels\": torch.tensor(label, dtype=torch.long)\n",
    "        }\n",
    "\n",
    "# Load training data\n",
    "train_df = pd.read_csv(\"Train.csv\", usecols=[\"clean_code\", \"label\"])\n",
    "train_dataset = CodeDataset(train_df, tokenizer)\n",
    "train_loader = DataLoader(train_dataset, batch_size=8, shuffle=True)\n",
    "\n",
    "# Optimizer and Scheduler\n",
    "optimizer = torch.optim.AdamW(model.parameters(), lr=2e-5)\n",
    "num_training_steps = len(train_loader) * 3\n",
    "lr_scheduler = get_scheduler(\"linear\", optimizer=optimizer, num_warmup_steps=0, num_training_steps=num_training_steps)\n",
    "\n",
    "# Fine-tune\n",
    "model.train()\n",
    "for epoch in range(3):\n",
    "    total_loss = 0\n",
    "    for batch in tqdm(train_loader, desc=f\"Epoch {epoch+1}\"):\n",
    "        batch = {k: v.to(device) for k, v in batch.items()}  # sends to CPU\n",
    "        outputs = model(input_ids=batch[\"input_ids\"], attention_mask=batch[\"attention_mask\"], labels=batch[\"labels\"])\n",
    "        loss = outputs[\"loss\"]\n",
    "        total_loss += loss.item()\n",
    "        loss.backward()\n",
    "        optimizer.step()\n",
    "        lr_scheduler.step()\n",
    "        optimizer.zero_grad()\n",
    "    print(f\"Epoch {epoch+1} loss: {total_loss:.4f}\")\n",
    "\n",
    "# Dataset for Feature Extraction\n",
    "class EmbeddingDataset(Dataset):\n",
    "    def __init__(self, dataframe, tokenizer, max_length=512):\n",
    "        self.data = dataframe.dropna(subset=[\"clean_code\", \"label\"])\n",
    "        self.data = self.data[self.data[\"clean_code\"].str.strip().astype(bool)]\n",
    "        self.tokenizer = tokenizer\n",
    "        self.max_length = max_length\n",
    "\n",
    "    def __len__(self):\n",
    "        return len(self.data)\n",
    "\n",
    "    def __getitem__(self, idx):\n",
    "        row = self.data.iloc[idx]\n",
    "        code = row[\"clean_code\"]\n",
    "        label = row[\"label\"]\n",
    "        style_feat = extract_stylometric_features(code)\n",
    "        tokens = self.tokenizer(code, padding=\"max_length\", truncation=True, max_length=self.max_length, return_tensors=\"pt\")\n",
    "        return {\n",
    "            \"input_ids\": tokens[\"input_ids\"].squeeze(0),\n",
    "            \"attention_mask\": tokens[\"attention_mask\"].squeeze(0),\n",
    "            \"stylometric\": torch.tensor(style_feat, dtype=torch.float32),\n",
    "            \"label\": label\n",
    "        }\n",
    "\n",
    "# Feature Extraction\n",
    "def extract_features(model, dataset):\n",
    "    loader = DataLoader(dataset, batch_size=8)\n",
    "    model.eval()\n",
    "    features = []\n",
    "    labels = []\n",
    "    with torch.no_grad():\n",
    "        for batch in tqdm(loader, desc=\"Extracting Features\"):\n",
    "            input_ids = batch[\"input_ids\"].to(device)\n",
    "            attention_mask = batch[\"attention_mask\"].to(device)\n",
    "            stylometric = batch[\"stylometric\"].numpy()\n",
    "            label_batch = batch[\"label\"]\n",
    "            outputs = model.encoder(input_ids=input_ids, attention_mask=attention_mask)\n",
    "            cls_embed = outputs.last_hidden_state[:, 0, :].cpu().numpy()\n",
    "            combined = np.concatenate([cls_embed, stylometric], axis=1)\n",
    "            features.append(combined)\n",
    "            labels.extend(label_batch)\n",
    "    return np.vstack(features), np.array(labels)\n",
    "\n",
    "# Train RF\n",
    "embedding_train_dataset = EmbeddingDataset(train_df, tokenizer)\n",
    "X_train, y_train = extract_features(model, embedding_train_dataset)\n",
    "rf = RandomForestClassifier(n_estimators=100, random_state=42)\n",
    "rf.fit(X_train, y_train)\n",
    "\n",
    "# Evaluate\n",
    "for i in range(10):\n",
    "    test_path = f\"Test_{i}.csv\"\n",
    "    test_df = pd.read_csv(test_path, usecols=[\"clean_code\", \"label\"])\n",
    "    test_dataset = EmbeddingDataset(test_df, tokenizer)\n",
    "    X_test, y_test = extract_features(model, test_dataset)\n",
    "    y_pred = rf.predict(X_test)\n",
    "    print(f\"\\n=== Results for {test_path} ===\")\n",
    "    print(\"Accuracy:\", accuracy_score(y_test, y_pred))\n",
    "    print(\"Precision:\", precision_score(y_test, y_pred))\n",
    "    print(\"Recall:\", recall_score(y_test, y_pred))\n",
    "    print(\"F1 Score:\", f1_score(y_test, y_pred))\n",
    "    print(\"Classification Report:\")\n",
    "    print(classification_report(y_test, y_pred))\n",
    "\n",
    "# Save classifier\n",
    "with open(\"human_ai_classifier.pkl\", \"wb\") as f:\n",
    "    pickle.dump(rf, f)\n",
    "\n"
   ]
  }
 ],
 "metadata": {
  "kernelspec": {
   "display_name": "venv",
   "language": "python",
   "name": "python3"
  },
  "language_info": {
   "codemirror_mode": {
    "name": "ipython",
    "version": 3
   },
   "file_extension": ".py",
   "mimetype": "text/x-python",
   "name": "python",
   "nbconvert_exporter": "python",
   "pygments_lexer": "ipython3",
   "version": "3.12.3"
  }
 },
 "nbformat": 4,
 "nbformat_minor": 5
}
